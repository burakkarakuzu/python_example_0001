{
 "cells": [
  {
   "cell_type": "code",
   "execution_count": 18,
   "id": "595c0266",
   "metadata": {},
   "outputs": [],
   "source": [
    "import numpy as np\n",
    "import pandas as pd"
   ]
  },
  {
   "cell_type": "code",
   "execution_count": 26,
   "id": "c667acc2",
   "metadata": {},
   "outputs": [],
   "source": [
    "liste1=[\"burak\",\"yasin\",\"enis\"]\n",
    "liste2=[20,30,40]\n",
    "my_tuples=list(zip(liste1,liste2))\n",
    "tablo=pd.MultiIndex.from_tuples(my_tuples)\n",
    "arrayim=np.array([[10,\"A\"],[20,\"B\"],[30,\"C\"]])\n",
    "listeDataFrame=pd.DataFrame(data=arrayim,index=tablo,columns=[\"puanı\",\"sınıfı\"])\n"
   ]
  },
  {
   "cell_type": "code",
   "execution_count": 27,
   "id": "f0096fe8",
   "metadata": {},
   "outputs": [
    {
     "data": {
      "text/html": [
       "<div>\n",
       "<style scoped>\n",
       "    .dataframe tbody tr th:only-of-type {\n",
       "        vertical-align: middle;\n",
       "    }\n",
       "\n",
       "    .dataframe tbody tr th {\n",
       "        vertical-align: top;\n",
       "    }\n",
       "\n",
       "    .dataframe thead th {\n",
       "        text-align: right;\n",
       "    }\n",
       "</style>\n",
       "<table border=\"1\" class=\"dataframe\">\n",
       "  <thead>\n",
       "    <tr style=\"text-align: right;\">\n",
       "      <th></th>\n",
       "      <th></th>\n",
       "      <th>puanı</th>\n",
       "      <th>sınıfı</th>\n",
       "    </tr>\n",
       "  </thead>\n",
       "  <tbody>\n",
       "    <tr>\n",
       "      <th>burak</th>\n",
       "      <th>20</th>\n",
       "      <td>10</td>\n",
       "      <td>A</td>\n",
       "    </tr>\n",
       "    <tr>\n",
       "      <th>yasin</th>\n",
       "      <th>30</th>\n",
       "      <td>20</td>\n",
       "      <td>B</td>\n",
       "    </tr>\n",
       "    <tr>\n",
       "      <th>enis</th>\n",
       "      <th>40</th>\n",
       "      <td>30</td>\n",
       "      <td>C</td>\n",
       "    </tr>\n",
       "  </tbody>\n",
       "</table>\n",
       "</div>"
      ],
      "text/plain": [
       "         puanı sınıfı\n",
       "burak 20    10      A\n",
       "yasin 30    20      B\n",
       "enis  40    30      C"
      ]
     },
     "execution_count": 27,
     "metadata": {},
     "output_type": "execute_result"
    }
   ],
   "source": [
    "listeDataFrame"
   ]
  },
  {
   "cell_type": "code",
   "execution_count": null,
   "id": "2d36d5cb",
   "metadata": {},
   "outputs": [],
   "source": []
  }
 ],
 "metadata": {
  "kernelspec": {
   "display_name": "Python 3 (ipykernel)",
   "language": "python",
   "name": "python3"
  },
  "language_info": {
   "codemirror_mode": {
    "name": "ipython",
    "version": 3
   },
   "file_extension": ".py",
   "mimetype": "text/x-python",
   "name": "python",
   "nbconvert_exporter": "python",
   "pygments_lexer": "ipython3",
   "version": "3.9.7"
  }
 },
 "nbformat": 4,
 "nbformat_minor": 5
}
