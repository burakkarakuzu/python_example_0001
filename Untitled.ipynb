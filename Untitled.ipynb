{
 "cells": [
  {
   "cell_type": "code",
   "execution_count": 1,
   "id": "dc7452d2",
   "metadata": {},
   "outputs": [],
   "source": [
    "import numpy as np"
   ]
  },
  {
   "cell_type": "code",
   "execution_count": null,
   "id": "3a1da88d",
   "metadata": {},
   "outputs": [],
   "source": [
    "help(np.linspace)"
   ]
  },
  {
   "cell_type": "code",
   "execution_count": null,
   "id": "d70dd8de",
   "metadata": {},
   "outputs": [],
   "source": [
    "a=np.arange(0,10)"
   ]
  },
  {
   "cell_type": "code",
   "execution_count": null,
   "id": "4cd378b5",
   "metadata": {},
   "outputs": [],
   "source": [
    "np.zeros(10\n",
    "        )"
   ]
  },
  {
   "cell_type": "code",
   "execution_count": null,
   "id": "9dd9e818",
   "metadata": {},
   "outputs": [],
   "source": [
    "np.linspace(20,30,5)"
   ]
  },
  {
   "cell_type": "code",
   "execution_count": null,
   "id": "6ae66638",
   "metadata": {},
   "outputs": [],
   "source": [
    "help(np.eye)"
   ]
  },
  {
   "cell_type": "code",
   "execution_count": null,
   "id": "a4949954",
   "metadata": {},
   "outputs": [],
   "source": [
    "np.eye(3)"
   ]
  },
  {
   "cell_type": "code",
   "execution_count": null,
   "id": "f6717ec8",
   "metadata": {},
   "outputs": [],
   "source": [
    "dizi=np.array([10,11,12,13])"
   ]
  },
  {
   "cell_type": "code",
   "execution_count": null,
   "id": "7dd60d42",
   "metadata": {},
   "outputs": [],
   "source": [
    "b=dizi.reshape(2,2)"
   ]
  },
  {
   "cell_type": "code",
   "execution_count": null,
   "id": "8a19970c",
   "metadata": {},
   "outputs": [],
   "source": [
    "b"
   ]
  },
  {
   "cell_type": "code",
   "execution_count": null,
   "id": "3f7ccc83",
   "metadata": {},
   "outputs": [],
   "source": [
    "b[:]=1"
   ]
  },
  {
   "cell_type": "code",
   "execution_count": null,
   "id": "8545a392",
   "metadata": {},
   "outputs": [],
   "source": [
    "b"
   ]
  },
  {
   "cell_type": "code",
   "execution_count": null,
   "id": "14eb314a",
   "metadata": {},
   "outputs": [],
   "source": [
    "a[:2]=3"
   ]
  },
  {
   "cell_type": "code",
   "execution_count": null,
   "id": "62532b29",
   "metadata": {},
   "outputs": [],
   "source": [
    "a"
   ]
  },
  {
   "cell_type": "code",
   "execution_count": null,
   "id": "4ad5b5e6",
   "metadata": {},
   "outputs": [],
   "source": [
    "a[9:]=10"
   ]
  },
  {
   "cell_type": "code",
   "execution_count": null,
   "id": "331a73ed",
   "metadata": {},
   "outputs": [],
   "source": [
    "a"
   ]
  },
  {
   "cell_type": "code",
   "execution_count": 2,
   "id": "91935a5a",
   "metadata": {},
   "outputs": [],
   "source": [
    "dizi=np.array([[1,2,3],[4,5,6],[7,8,9]])"
   ]
  },
  {
   "cell_type": "code",
   "execution_count": 3,
   "id": "0a56e4b4",
   "metadata": {},
   "outputs": [
    {
     "data": {
      "text/plain": [
       "array([[1, 2, 3],\n",
       "       [4, 5, 6],\n",
       "       [7, 8, 9]])"
      ]
     },
     "execution_count": 3,
     "metadata": {},
     "output_type": "execute_result"
    }
   ],
   "source": [
    "dizi"
   ]
  },
  {
   "cell_type": "code",
   "execution_count": 4,
   "id": "e11ef2e7",
   "metadata": {},
   "outputs": [
    {
     "data": {
      "text/plain": [
       "array([[1, 2, 3],\n",
       "       [4, 5, 6],\n",
       "       [7, 8, 9]])"
      ]
     },
     "execution_count": 4,
     "metadata": {},
     "output_type": "execute_result"
    }
   ],
   "source": [
    "dizi[0:][0:]"
   ]
  },
  {
   "cell_type": "code",
   "execution_count": 5,
   "id": "7543e7ea",
   "metadata": {},
   "outputs": [
    {
     "data": {
      "text/plain": [
       "array([1, 2, 3])"
      ]
     },
     "execution_count": 5,
     "metadata": {},
     "output_type": "execute_result"
    }
   ],
   "source": [
    "dizi[0:][0]"
   ]
  },
  {
   "cell_type": "code",
   "execution_count": 6,
   "id": "762f2713",
   "metadata": {},
   "outputs": [
    {
     "data": {
      "text/plain": [
       "array([3])"
      ]
     },
     "execution_count": 6,
     "metadata": {},
     "output_type": "execute_result"
    }
   ],
   "source": [
    "dizi[0][2:]"
   ]
  },
  {
   "cell_type": "code",
   "execution_count": 7,
   "id": "ff856b88",
   "metadata": {},
   "outputs": [
    {
     "data": {
      "text/plain": [
       "array([7, 8, 9])"
      ]
     },
     "execution_count": 7,
     "metadata": {},
     "output_type": "execute_result"
    }
   ],
   "source": [
    "dizi[2]"
   ]
  },
  {
   "cell_type": "code",
   "execution_count": 8,
   "id": "b326b2a2",
   "metadata": {},
   "outputs": [
    {
     "data": {
      "text/plain": [
       "3"
      ]
     },
     "execution_count": 8,
     "metadata": {},
     "output_type": "execute_result"
    }
   ],
   "source": [
    "dizi[0,2]"
   ]
  },
  {
   "cell_type": "code",
   "execution_count": 9,
   "id": "8388e422",
   "metadata": {},
   "outputs": [
    {
     "data": {
      "text/plain": [
       "array([3, 6, 9])"
      ]
     },
     "execution_count": 9,
     "metadata": {},
     "output_type": "execute_result"
    }
   ],
   "source": [
    "dizi[0:,2]"
   ]
  },
  {
   "cell_type": "code",
   "execution_count": 10,
   "id": "75c1d160",
   "metadata": {},
   "outputs": [
    {
     "data": {
      "text/plain": [
       "array([[1, 2, 3],\n",
       "       [4, 5, 6],\n",
       "       [7, 8, 9]])"
      ]
     },
     "execution_count": 10,
     "metadata": {},
     "output_type": "execute_result"
    }
   ],
   "source": [
    "dizi"
   ]
  },
  {
   "cell_type": "code",
   "execution_count": 13,
   "id": "ef3c6252",
   "metadata": {},
   "outputs": [],
   "source": [
    "dizi1=dizi[0:,0]"
   ]
  },
  {
   "cell_type": "code",
   "execution_count": 14,
   "id": "3dcdd4d9",
   "metadata": {},
   "outputs": [
    {
     "data": {
      "text/plain": [
       "array([1, 4, 7])"
      ]
     },
     "execution_count": 14,
     "metadata": {},
     "output_type": "execute_result"
    }
   ],
   "source": [
    "dizi1"
   ]
  },
  {
   "cell_type": "code",
   "execution_count": 17,
   "id": "994cec55",
   "metadata": {},
   "outputs": [
    {
     "data": {
      "text/plain": [
       "array([False,  True,  True])"
      ]
     },
     "execution_count": 17,
     "metadata": {},
     "output_type": "execute_result"
    }
   ],
   "source": [
    "dizi1>2"
   ]
  },
  {
   "cell_type": "code",
   "execution_count": 18,
   "id": "669f5d05",
   "metadata": {},
   "outputs": [
    {
     "data": {
      "text/plain": [
       "array([], dtype=int32)"
      ]
     },
     "execution_count": 18,
     "metadata": {},
     "output_type": "execute_result"
    }
   ],
   "source": [
    "dizi[dizi<1]"
   ]
  },
  {
   "cell_type": "code",
   "execution_count": 19,
   "id": "788af0f0",
   "metadata": {},
   "outputs": [
    {
     "data": {
      "text/plain": [
       "array([3, 4, 5, 6, 7, 8, 9])"
      ]
     },
     "execution_count": 19,
     "metadata": {},
     "output_type": "execute_result"
    }
   ],
   "source": [
    "dizi[dizi>2]"
   ]
  },
  {
   "cell_type": "code",
   "execution_count": 20,
   "id": "b1cd304d",
   "metadata": {},
   "outputs": [
    {
     "data": {
      "text/plain": [
       "array([4, 7])"
      ]
     },
     "execution_count": 20,
     "metadata": {},
     "output_type": "execute_result"
    }
   ],
   "source": [
    "dizi1[dizi1>2]"
   ]
  },
  {
   "cell_type": "code",
   "execution_count": null,
   "id": "e5f3d54d",
   "metadata": {},
   "outputs": [],
   "source": []
  }
 ],
 "metadata": {
  "kernelspec": {
   "display_name": "Python 3 (ipykernel)",
   "language": "python",
   "name": "python3"
  },
  "language_info": {
   "codemirror_mode": {
    "name": "ipython",
    "version": 3
   },
   "file_extension": ".py",
   "mimetype": "text/x-python",
   "name": "python",
   "nbconvert_exporter": "python",
   "pygments_lexer": "ipython3",
   "version": "3.9.7"
  }
 },
 "nbformat": 4,
 "nbformat_minor": 5
}
