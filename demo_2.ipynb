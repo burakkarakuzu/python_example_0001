{
 "cells": [
  {
   "cell_type": "code",
   "execution_count": 2,
   "id": "6a0b4d77",
   "metadata": {},
   "outputs": [],
   "source": [
    "import pandas as pd\n",
    "from sklearn.model_selection import train_test_split"
   ]
  },
  {
   "cell_type": "code",
   "execution_count": 3,
   "id": "eef11f07",
   "metadata": {},
   "outputs": [],
   "source": [
    "veri=pd.read_excel(\"bisiklet_fiyatlari.xlsx\")"
   ]
  },
  {
   "cell_type": "code",
   "execution_count": 5,
   "id": "81762d28",
   "metadata": {},
   "outputs": [
    {
     "data": {
      "text/html": [
       "<div>\n",
       "<style scoped>\n",
       "    .dataframe tbody tr th:only-of-type {\n",
       "        vertical-align: middle;\n",
       "    }\n",
       "\n",
       "    .dataframe tbody tr th {\n",
       "        vertical-align: top;\n",
       "    }\n",
       "\n",
       "    .dataframe thead th {\n",
       "        text-align: right;\n",
       "    }\n",
       "</style>\n",
       "<table border=\"1\" class=\"dataframe\">\n",
       "  <thead>\n",
       "    <tr style=\"text-align: right;\">\n",
       "      <th></th>\n",
       "      <th>Fiyat</th>\n",
       "      <th>BisikletOzellik1</th>\n",
       "      <th>BisikletOzellik2</th>\n",
       "    </tr>\n",
       "  </thead>\n",
       "  <tbody>\n",
       "    <tr>\n",
       "      <th>0</th>\n",
       "      <td>807.673876</td>\n",
       "      <td>1749.628226</td>\n",
       "      <td>1749.590668</td>\n",
       "    </tr>\n",
       "    <tr>\n",
       "      <th>1</th>\n",
       "      <td>959.227520</td>\n",
       "      <td>1748.007826</td>\n",
       "      <td>1751.824206</td>\n",
       "    </tr>\n",
       "    <tr>\n",
       "      <th>2</th>\n",
       "      <td>718.020033</td>\n",
       "      <td>1750.122967</td>\n",
       "      <td>1747.977026</td>\n",
       "    </tr>\n",
       "    <tr>\n",
       "      <th>3</th>\n",
       "      <td>945.668885</td>\n",
       "      <td>1749.916440</td>\n",
       "      <td>1750.771646</td>\n",
       "    </tr>\n",
       "    <tr>\n",
       "      <th>4</th>\n",
       "      <td>955.542968</td>\n",
       "      <td>1750.780519</td>\n",
       "      <td>1750.592430</td>\n",
       "    </tr>\n",
       "  </tbody>\n",
       "</table>\n",
       "</div>"
      ],
      "text/plain": [
       "        Fiyat  BisikletOzellik1  BisikletOzellik2\n",
       "0  807.673876       1749.628226       1749.590668\n",
       "1  959.227520       1748.007826       1751.824206\n",
       "2  718.020033       1750.122967       1747.977026\n",
       "3  945.668885       1749.916440       1750.771646\n",
       "4  955.542968       1750.780519       1750.592430"
      ]
     },
     "execution_count": 5,
     "metadata": {},
     "output_type": "execute_result"
    }
   ],
   "source": [
    "veri.head()"
   ]
  },
  {
   "cell_type": "code",
   "execution_count": 6,
   "id": "07d3ebdd",
   "metadata": {},
   "outputs": [],
   "source": [
    "y=veri[\"Fiyat\"].values"
   ]
  },
  {
   "cell_type": "code",
   "execution_count": 9,
   "id": "3c946037",
   "metadata": {},
   "outputs": [],
   "source": [
    "X=veri[[\"BisikletOzellik1\",\"BisikletOzellik2\"]].values"
   ]
  },
  {
   "cell_type": "code",
   "execution_count": 10,
   "id": "f6926b2e",
   "metadata": {},
   "outputs": [],
   "source": [
    "X_train,X_test,y_train,y_test=train_test_split(X,y,test_size=0.33,random_state=15)"
   ]
  },
  {
   "cell_type": "code",
   "execution_count": 13,
   "id": "a31014cf",
   "metadata": {},
   "outputs": [
    {
     "data": {
      "text/plain": [
       "array([[1748.374239, 1751.217187],\n",
       "       [1751.580415, 1753.658535],\n",
       "       [1750.727042, 1745.942278],\n",
       "       ...,\n",
       "       [1747.497907, 1750.085896],\n",
       "       [1753.042364, 1746.84704 ],\n",
       "       [1749.557564, 1746.592948]])"
      ]
     },
     "execution_count": 13,
     "metadata": {},
     "output_type": "execute_result"
    }
   ],
   "source": [
    "X_train"
   ]
  },
  {
   "cell_type": "code",
   "execution_count": 15,
   "id": "db8dff46",
   "metadata": {
    "scrolled": true
   },
   "outputs": [],
   "source": [
    "from sklearn.preprocessing import MinMaxScaler"
   ]
  },
  {
   "cell_type": "code",
   "execution_count": 19,
   "id": "8b665153",
   "metadata": {},
   "outputs": [
    {
     "ename": "ModuleNotFoundError",
     "evalue": "No module named 'TensorFlow'",
     "output_type": "error",
     "traceback": [
      "\u001b[1;31m---------------------------------------------------------------------------\u001b[0m",
      "\u001b[1;31mModuleNotFoundError\u001b[0m                       Traceback (most recent call last)",
      "\u001b[1;32m~\\AppData\\Local\\Temp/ipykernel_2016/1028500605.py\u001b[0m in \u001b[0;36m<module>\u001b[1;34m\u001b[0m\n\u001b[1;32m----> 1\u001b[1;33m \u001b[1;32mimport\u001b[0m \u001b[0mTensorFlow\u001b[0m \u001b[1;32mas\u001b[0m \u001b[0mtf\u001b[0m\u001b[1;33m\u001b[0m\u001b[1;33m\u001b[0m\u001b[0m\n\u001b[0m",
      "\u001b[1;31mModuleNotFoundError\u001b[0m: No module named 'TensorFlow'"
     ]
    }
   ],
   "source": [
    "import tensorFlow as tf"
   ]
  },
  {
   "cell_type": "code",
   "execution_count": null,
   "id": "5d7e1898",
   "metadata": {},
   "outputs": [],
   "source": []
  }
 ],
 "metadata": {
  "kernelspec": {
   "display_name": "Python 3 (ipykernel)",
   "language": "python",
   "name": "python3"
  },
  "language_info": {
   "codemirror_mode": {
    "name": "ipython",
    "version": 3
   },
   "file_extension": ".py",
   "mimetype": "text/x-python",
   "name": "python",
   "nbconvert_exporter": "python",
   "pygments_lexer": "ipython3",
   "version": "3.9.7"
  }
 },
 "nbformat": 4,
 "nbformat_minor": 5
}
